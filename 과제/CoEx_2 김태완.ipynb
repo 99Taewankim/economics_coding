{
 "cells": [
  {
   "attachments": {},
   "cell_type": "markdown",
   "metadata": {},
   "source": [
    "## Q1. Prime Numbers\n",
    "\n",
    "A prime number (or a prime) is a natural number greater than 1 that is not a product of two smaller natural numbers. Below are the examples of prime numbers between 1 and 1,000. \n",
    "\n",
    "2, 3, 5, 7, 11, 13, 17, 19, 23, 29, 31, 37, 41, 43, 47, 53, 59, 61, 67, 71, 73, 79, 83, 89, 97, 101, 103, 107, 109, 113, 127, 131, 137, 139, 149, 151, 157, 163, 167, 173, 179, 181, 191, 193, 197, 199, 211, 223, 227, 229, 233, 239, 241, 251, 257, 263, 269, 271, 277, 281, 283, 293, 307, 311, 313, 317, 331, 337, 347, 349, 353, 359, 367, 373, 379, 383, 389, 397, 401, 409, 419, 421, 431, 433, 439, 443, 449, 457, 461, 463, 467, 479, 487, 491, 499, 503, 509, 521, 523, 541, 547, 557, 563, 569, 571, 577, 587, 593, 599, 601, 607, 613, 617, 619, 631, 641, 643, 647, 653, 659, 661, 673, 677, 683, 691, 701, 709, 719, 727, 733, 739, 743, 751, 757, 761, 769, 773, 787, 797, 809, 811, 821, 823, 827, 829, 839, 853, 857, 859, 863, 877, 881, 883, 887, 907, 911, 919, 929, 937, 941, 947, 953, 967, 971, 977, 983, 991, 997."
   ]
  },
  {
   "attachments": {},
   "cell_type": "markdown",
   "metadata": {},
   "source": [
    "1. Using the definition of prime numbers, write a function to determine whether a number is prime. \n",
    "- function name: `whether_prime`\n",
    "- raise an error if the number is smaller than or equal to 1. \n",
    "- retrun `True` if the number is prime, `False` otherwise. \n",
    "- check with some arbitrary numbers whether your function works as intended."
   ]
  },
  {
   "cell_type": "code",
   "execution_count": 2,
   "metadata": {},
   "outputs": [],
   "source": [
    "# your code here\n",
    "def whether_prime(x):\n",
    "    if x <= 1:\n",
    "        raise Exception('error')\n",
    "    elif x==2:\n",
    "        return True\n",
    "    for i in range(2,x//2+1):\n",
    "        if x%i==0:\n",
    "            return False\n",
    "    return True\n",
    "\n"
   ]
  },
  {
   "cell_type": "code",
   "execution_count": 6,
   "metadata": {},
   "outputs": [
    {
     "data": {
      "text/plain": [
       "True"
      ]
     },
     "execution_count": 6,
     "metadata": {},
     "output_type": "execute_result"
    }
   ],
   "source": [
    "whether_prime(991)"
   ]
  },
  {
   "cell_type": "code",
   "execution_count": 8,
   "metadata": {},
   "outputs": [
    {
     "data": {
      "text/plain": [
       "False"
      ]
     },
     "execution_count": 8,
     "metadata": {},
     "output_type": "execute_result"
    }
   ],
   "source": [
    "whether_prime(568)"
   ]
  },
  {
   "cell_type": "code",
   "execution_count": 7,
   "metadata": {},
   "outputs": [
    {
     "ename": "Exception",
     "evalue": "error",
     "output_type": "error",
     "traceback": [
      "\u001b[1;31m---------------------------------------------------------------------------\u001b[0m",
      "\u001b[1;31mException\u001b[0m                                 Traceback (most recent call last)",
      "Cell \u001b[1;32mIn[7], line 1\u001b[0m\n\u001b[1;32m----> 1\u001b[0m whether_prime(\u001b[39m-\u001b[39;49m\u001b[39m88\u001b[39;49m)\n",
      "Cell \u001b[1;32mIn[2], line 4\u001b[0m, in \u001b[0;36mwhether_prime\u001b[1;34m(x)\u001b[0m\n\u001b[0;32m      2\u001b[0m \u001b[39mdef\u001b[39;00m \u001b[39mwhether_prime\u001b[39m(x):\n\u001b[0;32m      3\u001b[0m     \u001b[39mif\u001b[39;00m x \u001b[39m<\u001b[39m\u001b[39m=\u001b[39m \u001b[39m1\u001b[39m:\n\u001b[1;32m----> 4\u001b[0m         \u001b[39mraise\u001b[39;00m \u001b[39mException\u001b[39;00m(\u001b[39m'\u001b[39m\u001b[39merror\u001b[39m\u001b[39m'\u001b[39m)\n\u001b[0;32m      5\u001b[0m     \u001b[39melif\u001b[39;00m x\u001b[39m==\u001b[39m\u001b[39m2\u001b[39m:\n\u001b[0;32m      6\u001b[0m         \u001b[39mreturn\u001b[39;00m \u001b[39mTrue\u001b[39;00m\n",
      "\u001b[1;31mException\u001b[0m: error"
     ]
    }
   ],
   "source": [
    "whether_prime(-88)"
   ]
  },
  {
   "attachments": {},
   "cell_type": "markdown",
   "metadata": {},
   "source": [
    "2. Write a function to find all prime numbers betweeen two numbers (x and y). \n",
    "- function name: `find_primes`\n",
    "- check if both numbers (x and y) are greater thatn 1. Otherwise raise an error. \n",
    "- you may use the function `whether_prime` that you wrote above\n"
   ]
  },
  {
   "cell_type": "code",
   "execution_count": 14,
   "metadata": {},
   "outputs": [],
   "source": [
    "# your code here\n",
    "def find_primes(x,y):\n",
    "    lst=[]\n",
    "    if not (x>=1 and y>=1):\n",
    "        raise Exception('error')\n",
    "    #x 또는 y가 소수일경우 결과값에 그 값을 포함합니다.\n",
    "    for number in range(x,y+1):\n",
    "        if whether_prime(number):\n",
    "            lst.append(number)\n",
    "    return lst"
   ]
  },
  {
   "cell_type": "code",
   "execution_count": 15,
   "metadata": {},
   "outputs": [
    {
     "data": {
      "text/plain": [
       "[2,\n",
       " 3,\n",
       " 5,\n",
       " 7,\n",
       " 11,\n",
       " 13,\n",
       " 17,\n",
       " 19,\n",
       " 23,\n",
       " 29,\n",
       " 31,\n",
       " 37,\n",
       " 41,\n",
       " 43,\n",
       " 47,\n",
       " 53,\n",
       " 59,\n",
       " 61,\n",
       " 67,\n",
       " 71,\n",
       " 73,\n",
       " 79,\n",
       " 83,\n",
       " 89,\n",
       " 97,\n",
       " 101,\n",
       " 103,\n",
       " 107,\n",
       " 109,\n",
       " 113,\n",
       " 127,\n",
       " 131,\n",
       " 137,\n",
       " 139,\n",
       " 149,\n",
       " 151,\n",
       " 157,\n",
       " 163,\n",
       " 167,\n",
       " 173,\n",
       " 179,\n",
       " 181,\n",
       " 191,\n",
       " 193,\n",
       " 197,\n",
       " 199,\n",
       " 211,\n",
       " 223,\n",
       " 227,\n",
       " 229,\n",
       " 233,\n",
       " 239,\n",
       " 241,\n",
       " 251,\n",
       " 257,\n",
       " 263,\n",
       " 269,\n",
       " 271,\n",
       " 277,\n",
       " 281,\n",
       " 283,\n",
       " 293,\n",
       " 307,\n",
       " 311,\n",
       " 313,\n",
       " 317,\n",
       " 331,\n",
       " 337,\n",
       " 347,\n",
       " 349,\n",
       " 353,\n",
       " 359,\n",
       " 367,\n",
       " 373,\n",
       " 379,\n",
       " 383,\n",
       " 389,\n",
       " 397,\n",
       " 401,\n",
       " 409,\n",
       " 419,\n",
       " 421,\n",
       " 431,\n",
       " 433,\n",
       " 439,\n",
       " 443,\n",
       " 449,\n",
       " 457,\n",
       " 461,\n",
       " 463,\n",
       " 467,\n",
       " 479,\n",
       " 487,\n",
       " 491,\n",
       " 499,\n",
       " 503,\n",
       " 509,\n",
       " 521,\n",
       " 523,\n",
       " 541,\n",
       " 547,\n",
       " 557,\n",
       " 563,\n",
       " 569,\n",
       " 571,\n",
       " 577,\n",
       " 587,\n",
       " 593,\n",
       " 599,\n",
       " 601,\n",
       " 607,\n",
       " 613,\n",
       " 617,\n",
       " 619,\n",
       " 631,\n",
       " 641,\n",
       " 643,\n",
       " 647,\n",
       " 653,\n",
       " 659,\n",
       " 661,\n",
       " 673,\n",
       " 677,\n",
       " 683,\n",
       " 691,\n",
       " 701,\n",
       " 709,\n",
       " 719,\n",
       " 727,\n",
       " 733,\n",
       " 739,\n",
       " 743,\n",
       " 751,\n",
       " 757,\n",
       " 761,\n",
       " 769,\n",
       " 773,\n",
       " 787,\n",
       " 797,\n",
       " 809,\n",
       " 811,\n",
       " 821,\n",
       " 823,\n",
       " 827,\n",
       " 829,\n",
       " 839,\n",
       " 853,\n",
       " 857,\n",
       " 859,\n",
       " 863,\n",
       " 877,\n",
       " 881,\n",
       " 883,\n",
       " 887,\n",
       " 907,\n",
       " 911,\n",
       " 919,\n",
       " 929,\n",
       " 937,\n",
       " 941,\n",
       " 947,\n",
       " 953,\n",
       " 967,\n",
       " 971,\n",
       " 977,\n",
       " 983,\n",
       " 991,\n",
       " 997]"
      ]
     },
     "execution_count": 15,
     "metadata": {},
     "output_type": "execute_result"
    }
   ],
   "source": [
    "find_primes(2,997)"
   ]
  },
  {
   "cell_type": "code",
   "execution_count": 16,
   "metadata": {},
   "outputs": [
    {
     "ename": "Exception",
     "evalue": "error",
     "output_type": "error",
     "traceback": [
      "\u001b[1;31m---------------------------------------------------------------------------\u001b[0m",
      "\u001b[1;31mException\u001b[0m                                 Traceback (most recent call last)",
      "Cell \u001b[1;32mIn[16], line 1\u001b[0m\n\u001b[1;32m----> 1\u001b[0m find_primes(\u001b[39m-\u001b[39;49m\u001b[39m1\u001b[39;49m,\u001b[39m6\u001b[39;49m)\n",
      "Cell \u001b[1;32mIn[14], line 5\u001b[0m, in \u001b[0;36mfind_primes\u001b[1;34m(x, y)\u001b[0m\n\u001b[0;32m      3\u001b[0m lst\u001b[39m=\u001b[39m[]\n\u001b[0;32m      4\u001b[0m \u001b[39mif\u001b[39;00m \u001b[39mnot\u001b[39;00m (x\u001b[39m>\u001b[39m\u001b[39m=\u001b[39m\u001b[39m1\u001b[39m \u001b[39mand\u001b[39;00m y\u001b[39m>\u001b[39m\u001b[39m=\u001b[39m\u001b[39m1\u001b[39m):\n\u001b[1;32m----> 5\u001b[0m     \u001b[39mraise\u001b[39;00m \u001b[39mException\u001b[39;00m(\u001b[39m'\u001b[39m\u001b[39merror\u001b[39m\u001b[39m'\u001b[39m)\n\u001b[0;32m      6\u001b[0m \u001b[39mfor\u001b[39;00m number \u001b[39min\u001b[39;00m \u001b[39mrange\u001b[39m(x,y\u001b[39m+\u001b[39m\u001b[39m1\u001b[39m):\n\u001b[0;32m      7\u001b[0m     \u001b[39mif\u001b[39;00m whether_prime(number):\n",
      "\u001b[1;31mException\u001b[0m: error"
     ]
    }
   ],
   "source": [
    "find_primes(-1,6)"
   ]
  },
  {
   "attachments": {},
   "cell_type": "markdown",
   "metadata": {},
   "source": [
    "3. Using the function `find_primes` that you wrote above, do the followings:\n",
    "- find all prime numbers between 1,000 and 1,100.\n",
    "- calculate the sum of all prime numbers between 1,500 and 2,000.\n",
    "- count the number of primes between 2,000 and 3,000.\n",
    "- calculate the difference between the largest and smallest prime numbers between 3,000 and 8,000."
   ]
  },
  {
   "cell_type": "code",
   "execution_count": 21,
   "metadata": {},
   "outputs": [
    {
     "name": "stdout",
     "output_type": "stream",
     "text": [
      "answer 1 is [1009, 1013, 1019, 1021, 1031, 1033, 1039, 1049, 1051, 1061, 1063, 1069, 1087, 1091, 1093, 1097]\n",
      "answer 2 is 112010\n",
      "answer 3 is 127\n",
      "answer 4 is 4992\n"
     ]
    }
   ],
   "source": [
    "# your code here\n",
    "a=find_primes(1000,1100);print(\"answer 1 is\",a)\n",
    "b=sum(find_primes(1500,2000));print(\"answer 2 is\",b)\n",
    "c=len(find_primes(2000,3000));print(\"answer 3 is\",c)\n",
    "d=max(find_primes(3000,8000))-min(find_primes(3000,8000));print(\"answer 4 is\",d)"
   ]
  },
  {
   "attachments": {},
   "cell_type": "markdown",
   "metadata": {},
   "source": [
    "4. Uisng the function `whether_prime` that you wrote above, write another function to find the x_th prime number after y.\n",
    "- function name: `x_prime_y`\n",
    "- takes two input arguments (x, y).\n",
    "- returns the prime number that appears x_th after y."
   ]
  },
  {
   "cell_type": "code",
   "execution_count": 25,
   "metadata": {},
   "outputs": [],
   "source": [
    "# your code here\n",
    "def x_prime_y(x,y):\n",
    "    count=0\n",
    "    #y 다음 값부터 소수이면 counting을 시작함\n",
    "    y+=1\n",
    "    while True:\n",
    "        if x<=0:\n",
    "            raise Exception('error')\n",
    "        if whether_prime(y):\n",
    "            count+=1\n",
    "        if x==count:\n",
    "            return y\n",
    "        y+=1\n"
   ]
  },
  {
   "cell_type": "code",
   "execution_count": 26,
   "metadata": {},
   "outputs": [
    {
     "data": {
      "text/plain": [
       "61"
      ]
     },
     "execution_count": 26,
     "metadata": {},
     "output_type": "execute_result"
    }
   ],
   "source": [
    "x_prime_y(10,19)"
   ]
  },
  {
   "attachments": {},
   "cell_type": "markdown",
   "metadata": {},
   "source": [
    "5. Using the function `x_prime_y` that you wrote above, do the following:\n",
    "- find the 100th prime number after 500.\n",
    "- create a list that contains 20 prime numbers that appear after 200. For this, you'd better use `list comprehension`."
   ]
  },
  {
   "cell_type": "code",
   "execution_count": 28,
   "metadata": {},
   "outputs": [
    {
     "name": "stdout",
     "output_type": "stream",
     "text": [
      "1187\n",
      "[211, 223, 227, 229, 233, 239, 241, 251, 257, 263, 269, 271, 277, 281, 283, 293, 307, 311, 313, 317]\n"
     ]
    }
   ],
   "source": [
    "# your code here\n",
    "print(x_prime_y(100,500))\n",
    "print([x_prime_y(i,200) for i in range(1,21)])\n"
   ]
  },
  {
   "attachments": {},
   "cell_type": "markdown",
   "metadata": {},
   "source": [
    "## Q2. Euler's Number\n",
    "\n",
    "The Euler's number, $e$, can be calculated as the sum of the infinite series: $$e = \\dfrac{1}{0!} + \\dfrac{1}{1!} + \\dfrac{1}{2!} + \\dfrac{1}{3!} + \\cdots = \\sum_{n=0}^{\\infty } \\dfrac {1}{n!}$$\n"
   ]
  },
  {
   "attachments": {},
   "cell_type": "markdown",
   "metadata": {},
   "source": [
    "1. Write a function to calculate $e$ for a number $n \\ge 2$.\n",
    "- function name: `Euler_Series`\n",
    "- you have to write a function to calculate the `factorial` of a number. "
   ]
  },
  {
   "cell_type": "code",
   "execution_count": 38,
   "metadata": {},
   "outputs": [],
   "source": [
    "# your code here\n",
    "def factorial(x):\n",
    "    if x==0 or x==1:\n",
    "        return 1\n",
    "    \n",
    "    ans=1\n",
    "    while x!=1:\n",
    "        ans*=x\n",
    "        x-=1\n",
    "    return ans\n",
    "\n",
    "def Euler_Series(n):\n",
    "    e=0\n",
    "    for k in range(n+1):\n",
    "        e+=1/factorial(k)\n",
    "    return e\n",
    "\n"
   ]
  },
  {
   "attachments": {},
   "cell_type": "markdown",
   "metadata": {},
   "source": [
    "2. Using the function that you wrote above, compute the Euler's number with $n=10$."
   ]
  },
  {
   "cell_type": "code",
   "execution_count": 39,
   "metadata": {},
   "outputs": [
    {
     "data": {
      "text/plain": [
       "2.7182818011463845"
      ]
     },
     "execution_count": 39,
     "metadata": {},
     "output_type": "execute_result"
    }
   ],
   "source": [
    "# your code here\n",
    "Euler_Series(10)"
   ]
  },
  {
   "attachments": {},
   "cell_type": "markdown",
   "metadata": {},
   "source": [
    "3. Write a code to find the number $n^*$ such that `Euler_Series(n*) - Euler_Series(n*-1) < 1e-10`. What is $n^*$? What is the Euler's number with $n^*$?"
   ]
  },
  {
   "cell_type": "code",
   "execution_count": 44,
   "metadata": {},
   "outputs": [
    {
     "name": "stdout",
     "output_type": "stream",
     "text": [
      "n* is 14\n",
      "2.71828182845823\n"
     ]
    }
   ],
   "source": [
    "# your code here\n",
    "n=1\n",
    "while True:\n",
    "    if Euler_Series(n)-Euler_Series(n-1)<1e-10:\n",
    "        print(\"n* is\",n)\n",
    "        print(Euler_Series(n))\n",
    "        break\n",
    "    n+=1\n",
    "\n"
   ]
  },
  {
   "attachments": {},
   "cell_type": "markdown",
   "metadata": {},
   "source": [
    "## Q3. Optimal Choice of Consumption and Leisure\n",
    "\n",
    "Consider a consumer who is endowed with one unit of time. The consumer should work to make money for consumption. Assume that the price is consumption is equal to 1 and the market wage is also equal to 1. The utility function is given $u(c, l) = \\log{c} + \\log{l}$ where $c$ denotes consumption and $l$ leisure. The consumer wants to maximize utility."
   ]
  },
  {
   "attachments": {},
   "cell_type": "markdown",
   "metadata": {},
   "source": [
    "1. You must have learned how to solve this utility maximization problem of the consumer. \n",
    "- Write down the budget constriant for the consumer.\n",
    "- Write down the optimality condition for the choice of consumption and leisure.\n",
    "- Solve for the optimal consumption ($c^*$) and leisure ($l^*$). \n",
    "- You may write down your answers on a piece of paper, take a photo of it with your cellphone and then put the image file here."
   ]
  },
  {
   "attachments": {},
   "cell_type": "markdown",
   "metadata": {},
   "source": [
    "**write here a price of markdown code to inclue an image file.**\n"
   ]
  },
  {
   "attachments": {},
   "cell_type": "markdown",
   "metadata": {},
   "source": [
    "2. Write down a function to find `approximately` the optimal combination of consumptiona and leisure.\n",
    "- function name: `find_opt`\n",
    "- the utility initially increases as leisure up to some point, then decrease after on.\n",
    "- the algorithm to find the optimal consumption and leisure is as follows:\n",
    "  - starting from the lowest possible level of leisure, increase leisure by the small fixed amount.\n",
    "  - compute the correspoding consumption using the budget constraint, then compute the utility level.\n",
    "  - find the optimal level of leisure that maximize utility by comparing two contiguous levels of leisure.\n",
    "- Notice that the optimal combination of consumption and leisure depends on the market wage.\n"
   ]
  },
  {
   "cell_type": "code",
   "execution_count": 60,
   "metadata": {},
   "outputs": [],
   "source": [
    "# need math library to use log() and -inf\n",
    "import math\n",
    "# your code here\n",
    "def find_opt(w):\n",
    "    l1 = 0\n",
    "    c1 = w*(1-l1)\n",
    "    #효용값을 최저로 설정\n",
    "    u1 = -math.inf\n",
    "    l2 = 0.01\n",
    "    c2 = w*(1-l2)\n",
    "    u2 = math.log(c2)+math.log(l2)\n",
    "    while True:\n",
    "        if u1 < u2:\n",
    "            #효용이 더 올라갈수 있다면, 효용을 l2로 조정\n",
    "            l1 = l2\n",
    "            c1 = w*(1-l1)\n",
    "            #다시 계산\n",
    "            u1 = math.log(c1)+math.log(l1)\n",
    "            #상한 l2를 임의로 조정해 증가시킴\n",
    "            l2 += 0.01\n",
    "            c2 = w*(1-l2)\n",
    "            u2 = math.log(c2)+math.log(l2)\n",
    "        elif u1 > u2:\n",
    "            break\n",
    "    return c1,l1\n"
   ]
  },
  {
   "attachments": {},
   "cell_type": "markdown",
   "metadata": {},
   "source": [
    "3. Find the optimal combination of consumption and leisure whem the market wage is equal to one."
   ]
  },
  {
   "cell_type": "code",
   "execution_count": 61,
   "metadata": {},
   "outputs": [
    {
     "data": {
      "text/plain": [
       "(0.4999999999999998, 0.5000000000000002)"
      ]
     },
     "execution_count": 61,
     "metadata": {},
     "output_type": "execute_result"
    }
   ],
   "source": [
    "# your code here\n",
    "find_opt(1)"
   ]
  },
  {
   "attachments": {},
   "cell_type": "markdown",
   "metadata": {},
   "source": [
    "4. Create a list that contains tuples of the optimal consumption and leisure as the market wage grows from 1 to 2 by 0.05. Use `list comprehension` for this."
   ]
  },
  {
   "cell_type": "code",
   "execution_count": 62,
   "metadata": {},
   "outputs": [
    {
     "data": {
      "text/plain": [
       "[(0.4999999999999998, 0.5000000000000002),\n",
       " (0.5249999999999998, 0.5000000000000002),\n",
       " (0.5499999999999998, 0.5000000000000002),\n",
       " (0.5749999999999997, 0.5000000000000002),\n",
       " (0.5999999999999998, 0.5000000000000002),\n",
       " (0.6249999999999998, 0.5000000000000002),\n",
       " (0.6499999999999997, 0.5000000000000002),\n",
       " (0.6749999999999997, 0.5000000000000002),\n",
       " (0.6999999999999996, 0.5000000000000002),\n",
       " (0.7249999999999996, 0.5000000000000002),\n",
       " (0.7499999999999997, 0.5000000000000002),\n",
       " (0.7749999999999997, 0.5000000000000002),\n",
       " (0.7999999999999997, 0.5000000000000002),\n",
       " (0.8249999999999996, 0.5000000000000002),\n",
       " (0.8499999999999996, 0.5000000000000002),\n",
       " (0.8749999999999996, 0.5000000000000002),\n",
       " (0.8999999999999996, 0.5000000000000002),\n",
       " (0.9249999999999996, 0.5000000000000002),\n",
       " (0.9499999999999995, 0.5000000000000002),\n",
       " (0.9749999999999995, 0.5000000000000002),\n",
       " (0.9999999999999996, 0.5000000000000002)]"
      ]
     },
     "execution_count": 62,
     "metadata": {},
     "output_type": "execute_result"
    }
   ],
   "source": [
    "# your code here\n",
    "[find_opt(i/100) for i in range(100,201,5)]\n"
   ]
  },
  {
   "cell_type": "code",
   "execution_count": null,
   "metadata": {},
   "outputs": [],
   "source": []
  }
 ],
 "metadata": {
  "kernelspec": {
   "display_name": "base",
   "language": "python",
   "name": "python3"
  },
  "language_info": {
   "codemirror_mode": {
    "name": "ipython",
    "version": 3
   },
   "file_extension": ".py",
   "mimetype": "text/x-python",
   "name": "python",
   "nbconvert_exporter": "python",
   "pygments_lexer": "ipython3",
   "version": "3.11.2"
  },
  "orig_nbformat": 4
 },
 "nbformat": 4,
 "nbformat_minor": 2
}
