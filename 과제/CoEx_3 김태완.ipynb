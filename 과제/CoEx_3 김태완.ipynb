{
 "cells": [
  {
   "attachments": {},
   "cell_type": "markdown",
   "metadata": {},
   "source": [
    "## Q1. Numpy Array Operations"
   ]
  },
  {
   "attachments": {},
   "cell_type": "markdown",
   "metadata": {},
   "source": [
    "1. Create a 1-D numpy (`arr_1d`) array with numbers (2, 3, 5, 7, 11, 13, 17, 19, 23, 29, 31, 37, 41, 43, 47, 53, 59, 61, 67, 71)"
   ]
  },
  {
   "cell_type": "code",
   "execution_count": 1,
   "metadata": {},
   "outputs": [
    {
     "data": {
      "text/plain": [
       "array([ 2,  3,  5,  7, 11, 13, 17, 19, 23, 29, 31, 37, 41, 43, 47, 53, 59,\n",
       "       61, 67, 71])"
      ]
     },
     "execution_count": 1,
     "metadata": {},
     "output_type": "execute_result"
    }
   ],
   "source": [
    "import numpy as np\n",
    "\n",
    "# your code here\n",
    "arr_1d=np.array([2, 3, 5, 7, 11, 13, 17, 19, 23, 29, 31, 37, 41, 43, 47, 53, 59, 61, 67, 71]);arr_1d"
   ]
  },
  {
   "attachments": {},
   "cell_type": "markdown",
   "metadata": {},
   "source": [
    "2. Compute the sum of squared errors of `arr_1d`."
   ]
  },
  {
   "cell_type": "code",
   "execution_count": 4,
   "metadata": {},
   "outputs": [
    {
     "data": {
      "text/plain": [
       "9590.95"
      ]
     },
     "execution_count": 4,
     "metadata": {},
     "output_type": "execute_result"
    }
   ],
   "source": [
    "# your code here\n",
    "sum((arr_1d-np.mean(arr_1d))**2)"
   ]
  },
  {
   "attachments": {},
   "cell_type": "markdown",
   "metadata": {},
   "source": [
    "3. show all elements of `arr_1d` that are at odd-indices."
   ]
  },
  {
   "cell_type": "code",
   "execution_count": 7,
   "metadata": {},
   "outputs": [
    {
     "data": {
      "text/plain": [
       "array([ 3,  7, 13, 19, 29, 37, 43, 53, 61, 71])"
      ]
     },
     "execution_count": 7,
     "metadata": {},
     "output_type": "execute_result"
    }
   ],
   "source": [
    "# your code here\n",
    "arr_1d[np.arange(1,len(arr_1d),2)]"
   ]
  },
  {
   "attachments": {},
   "cell_type": "markdown",
   "metadata": {},
   "source": [
    "4. show all elements of `arr_1d` that are larger than 40."
   ]
  },
  {
   "cell_type": "code",
   "execution_count": 8,
   "metadata": {},
   "outputs": [
    {
     "data": {
      "text/plain": [
       "array([41, 43, 47, 53, 59, 61, 67, 71])"
      ]
     },
     "execution_count": 8,
     "metadata": {},
     "output_type": "execute_result"
    }
   ],
   "source": [
    "# your code here\n",
    "arr_1d[arr_1d>40]"
   ]
  },
  {
   "attachments": {},
   "cell_type": "markdown",
   "metadata": {},
   "source": [
    "5. show all elements of `arr_1d` at even-indices and smaller than 40."
   ]
  },
  {
   "cell_type": "code",
   "execution_count": 11,
   "metadata": {},
   "outputs": [
    {
     "data": {
      "text/plain": [
       "array([ 2,  5, 11, 17, 23, 31])"
      ]
     },
     "execution_count": 11,
     "metadata": {},
     "output_type": "execute_result"
    }
   ],
   "source": [
    "# your code here\n",
    "# Create a boolean mask for even indices\n",
    "even_indices_mask = np.arange(len(arr_1d)) % 2 == 0\n",
    "\n",
    "# Use the mask to select elements at even indices\n",
    "selected_elements = arr_1d[even_indices_mask]\n",
    "\n",
    "# Filter elements smaller than 40\n",
    "result = selected_elements[selected_elements < 40];result"
   ]
  },
  {
   "attachments": {},
   "cell_type": "markdown",
   "metadata": {},
   "source": [
    "6. Create a 2-d array of which the first column contains elements of `arr_1d` at even-indices and the second column contains elements of `arr_1d` at odd-indices."
   ]
  },
  {
   "cell_type": "code",
   "execution_count": 26,
   "metadata": {},
   "outputs": [
    {
     "data": {
      "text/plain": [
       "array([[ 2.,  3.],\n",
       "       [ 5.,  7.],\n",
       "       [11., 13.],\n",
       "       [17., 19.],\n",
       "       [23., 29.],\n",
       "       [31., 37.],\n",
       "       [41., 43.],\n",
       "       [47., 53.],\n",
       "       [59., 61.],\n",
       "       [67., 71.]])"
      ]
     },
     "execution_count": 26,
     "metadata": {},
     "output_type": "execute_result"
    }
   ],
   "source": [
    "# your code here\n",
    "two_column_array = np.zeros((len(arr_1d)//2,2))\n",
    "# Create a 2D array with two columns\n",
    "two_column_array[:,0]=arr_1d[np.arange(0,len(arr_1d),2)]\n",
    "two_column_array[:,1]=arr_1d[np.arange(1,len(arr_1d),2)]\n",
    "two_column_array"
   ]
  },
  {
   "attachments": {},
   "cell_type": "markdown",
   "metadata": {},
   "source": [
    "7. Using `arr_1d` create a 2-d array of shape (5,4), `arr_2d`."
   ]
  },
  {
   "cell_type": "code",
   "execution_count": 27,
   "metadata": {},
   "outputs": [
    {
     "data": {
      "text/plain": [
       "array([[ 2,  3,  5,  7],\n",
       "       [11, 13, 17, 19],\n",
       "       [23, 29, 31, 37],\n",
       "       [41, 43, 47, 53],\n",
       "       [59, 61, 67, 71]])"
      ]
     },
     "execution_count": 27,
     "metadata": {},
     "output_type": "execute_result"
    }
   ],
   "source": [
    "# your code here\n",
    "arr_2d = arr_1d.reshape(5,4);arr_2d"
   ]
  },
  {
   "attachments": {},
   "cell_type": "markdown",
   "metadata": {},
   "source": [
    "8. Add the array of the first 4 elements of `arr_1d` to each row of `arr_2d`."
   ]
  },
  {
   "cell_type": "code",
   "execution_count": 38,
   "metadata": {},
   "outputs": [
    {
     "data": {
      "text/plain": [
       "array([[ 4,  6, 10, 14],\n",
       "       [13, 16, 22, 26],\n",
       "       [25, 32, 36, 44],\n",
       "       [43, 46, 52, 60],\n",
       "       [61, 64, 72, 78]])"
      ]
     },
     "execution_count": 38,
     "metadata": {},
     "output_type": "execute_result"
    }
   ],
   "source": [
    "# your code here\n",
    "arr_2d+arr_1d[:4]"
   ]
  },
  {
   "attachments": {},
   "cell_type": "markdown",
   "metadata": {},
   "source": [
    "9. Add the array of the last 5 elements of `arr_1d` to each column of `arr_2d`."
   ]
  },
  {
   "cell_type": "code",
   "execution_count": 41,
   "metadata": {},
   "outputs": [
    {
     "data": {
      "text/plain": [
       "array([[ 55,  56,  58,  60],\n",
       "       [ 70,  72,  76,  78],\n",
       "       [ 84,  90,  92,  98],\n",
       "       [108, 110, 114, 120],\n",
       "       [130, 132, 138, 142]])"
      ]
     },
     "execution_count": 41,
     "metadata": {},
     "output_type": "execute_result"
    }
   ],
   "source": [
    "# your code here\n",
    "arr_2d+arr_1d[-5:][:,np.newaxis]"
   ]
  },
  {
   "attachments": {},
   "cell_type": "markdown",
   "metadata": {},
   "source": [
    "10. Create the new 2-D array of shape (5,5), denoted `arr_2d_new,` by appending the first 5 elements of `arr_1d` to `arr_2d`."
   ]
  },
  {
   "cell_type": "code",
   "execution_count": 46,
   "metadata": {},
   "outputs": [
    {
     "data": {
      "text/plain": [
       "array([[ 2,  3,  5,  7,  2],\n",
       "       [11, 13, 17, 19,  3],\n",
       "       [23, 29, 31, 37,  5],\n",
       "       [41, 43, 47, 53,  7],\n",
       "       [59, 61, 67, 71, 11]])"
      ]
     },
     "execution_count": 46,
     "metadata": {},
     "output_type": "execute_result"
    }
   ],
   "source": [
    "# your code here\n",
    "arr_2d_new=np.append(arr_2d,arr_1d[:5].reshape(5,1),axis=1);arr_2d_new"
   ]
  },
  {
   "attachments": {},
   "cell_type": "markdown",
   "metadata": {},
   "source": [
    "10. Compute the row-wise sum of `arr_2d_new`"
   ]
  },
  {
   "cell_type": "code",
   "execution_count": 47,
   "metadata": {},
   "outputs": [
    {
     "data": {
      "text/plain": [
       "array([ 19,  63, 125, 191, 269])"
      ]
     },
     "execution_count": 47,
     "metadata": {},
     "output_type": "execute_result"
    }
   ],
   "source": [
    "# your code here\n",
    "arr_2d_new.sum(axis=1)"
   ]
  },
  {
   "attachments": {},
   "cell_type": "markdown",
   "metadata": {},
   "source": [
    "11. Compute the column-wise sum of `arr_2d_new`"
   ]
  },
  {
   "cell_type": "code",
   "execution_count": 48,
   "metadata": {},
   "outputs": [
    {
     "data": {
      "text/plain": [
       "array([136, 149, 167, 187,  28])"
      ]
     },
     "execution_count": 48,
     "metadata": {},
     "output_type": "execute_result"
    }
   ],
   "source": [
    "# your code here\n",
    "arr_2d_new.sum(axis=0)"
   ]
  },
  {
   "attachments": {},
   "cell_type": "markdown",
   "metadata": {},
   "source": [
    "## Q2. Approximation of the Sine Functions\n",
    "\n",
    "It is well known that the sine function can be approximated by the infinite order of the Maclaurin series: $$\\sin{x} = x - \\dfrac{x^3}{3!} + \\dfrac{x^5}{5!} - \\dfrac{x^7}{7!} \\cdots = \\sum_{n=0}^{\\infty } \\dfrac {(-1)^n}{(2n+1)!} x^{2n+1}$$\n"
   ]
  },
  {
   "attachments": {},
   "cell_type": "markdown",
   "metadata": {},
   "source": [
    "1. Write a **lambda function** to approximate $\\sin{x}$ with the $N^{th}$ order Maclaurin series.\n"
   ]
  },
  {
   "cell_type": "code",
   "execution_count": 49,
   "metadata": {},
   "outputs": [],
   "source": [
    "# your code here\n",
    "\n",
    "import math\n",
    "sinx = lambda x, N: sum(((-1)**n) * (x**(2*n + 1)) / math.factorial(2*n + 1) for n in range(N+1))"
   ]
  },
  {
   "attachments": {},
   "cell_type": "markdown",
   "metadata": {},
   "source": [
    "2. Set $N=5$ and compute $\\sin{x}$ where $x$ is eqeually spaced array of 50 numbers in the interval $[-2\\pi, 2\\pi]$."
   ]
  },
  {
   "cell_type": "code",
   "execution_count": 50,
   "metadata": {},
   "outputs": [
    {
     "data": {
      "text/plain": [
       "array([ 3.19507604,  2.13780826,  1.57544065,  1.30403126,  1.18669216,\n",
       "        1.13376423,  1.0887998 ,  1.01876193,  0.90720602,  0.74950786,\n",
       "        0.54944865,  0.31666716,  0.06464799, -0.19096176, -0.433823  ,\n",
       "       -0.64821176, -0.82016831, -0.93846764, -0.99537899, -0.98718177,\n",
       "       -0.91441262, -0.78183148, -0.59811053, -0.375267  , -0.12787716,\n",
       "        0.12787716,  0.375267  ,  0.59811053,  0.78183148,  0.91441262,\n",
       "        0.98718177,  0.99537899,  0.93846764,  0.82016831,  0.64821176,\n",
       "        0.433823  ,  0.19096176, -0.06464799, -0.31666716, -0.54944865,\n",
       "       -0.74950786, -0.90720602, -1.01876193, -1.0887998 , -1.13376423,\n",
       "       -1.18669216, -1.30403126, -1.57544065, -2.13780826, -3.19507604])"
      ]
     },
     "execution_count": 50,
     "metadata": {},
     "output_type": "execute_result"
    }
   ],
   "source": [
    "# your code here\n",
    "N=5\n",
    "x=np.linspace(math.pi*-2,math.pi*2,50)\n",
    "sinx(x,N)"
   ]
  },
  {
   "attachments": {},
   "cell_type": "markdown",
   "metadata": {},
   "source": [
    "3. Compute the approximation errors for the function that you wrote above by comparing the values from your function and those from the sine function in the Numpy library."
   ]
  },
  {
   "cell_type": "code",
   "execution_count": 55,
   "metadata": {},
   "outputs": [
    {
     "data": {
      "text/plain": [
       "array([-3.19507604e+00, -1.88415368e+00, -1.08472310e+00, -6.08348705e-01,\n",
       "       -3.31549395e-01, -1.75096376e-01, -8.93135835e-02, -4.38340225e-02,\n",
       "       -2.06067159e-02, -9.22986066e-03, -3.91375106e-03, -1.55894515e-03,\n",
       "       -5.77773387e-04, -1.96872099e-04, -6.07441055e-05, -1.66388871e-05,\n",
       "       -3.94074210e-06, -7.78181567e-07, -1.21631610e-07, -1.39158558e-08,\n",
       "       -1.02780773e-09, -3.92752497e-11, -4.95603558e-13, -6.66133815e-16,\n",
       "        0.00000000e+00, -2.77555756e-17,  6.66133815e-16,  4.95603558e-13,\n",
       "        3.92752497e-11,  1.02780795e-09,  1.39158558e-08,  1.21631610e-07,\n",
       "        7.78181567e-07,  3.94074210e-06,  1.66388871e-05,  6.07441055e-05,\n",
       "        1.96872099e-04,  5.77773387e-04,  1.55894515e-03,  3.91375106e-03,\n",
       "        9.22986066e-03,  2.06067159e-02,  4.38340225e-02,  8.93135835e-02,\n",
       "        1.75096376e-01,  3.31549395e-01,  6.08348705e-01,  1.08472310e+00,\n",
       "        1.88415368e+00,  3.19507604e+00])"
      ]
     },
     "execution_count": 55,
     "metadata": {},
     "output_type": "execute_result"
    }
   ],
   "source": [
    "# your code here\n",
    "(np.sin(x)-sinx(x,N))\n"
   ]
  },
  {
   "attachments": {},
   "cell_type": "markdown",
   "metadata": {},
   "source": [
    "4. Write the Python code to find $N$ that makes the maximum approximation error of your function for $x\\in [-2\\pi, 2\\pi]$ less than 1.0e-10."
   ]
  },
  {
   "cell_type": "code",
   "execution_count": 58,
   "metadata": {},
   "outputs": [
    {
     "name": "stdout",
     "output_type": "stream",
     "text": [
      "15\n"
     ]
    }
   ],
   "source": [
    "# your code here\n",
    "N=1\n",
    "x=np.linspace(math.pi*-2,math.pi*2,50)\n",
    "while True:\n",
    "    max_error=1e-10\n",
    "    if max(abs(np.sin(x)-sinx(x,N)))<=max_error:\n",
    "        print(N)\n",
    "        break\n",
    "    N+=1"
   ]
  },
  {
   "attachments": {},
   "cell_type": "markdown",
   "metadata": {},
   "source": [
    "## Q3. Geometric and Harmonic Means"
   ]
  },
  {
   "attachments": {},
   "cell_type": "markdown",
   "metadata": {},
   "source": [
    "1. Look up the definitioin of `geometric` and `harmonic` means and write two lambda functions to compute those using their definitions."
   ]
  },
  {
   "cell_type": "code",
   "execution_count": 63,
   "metadata": {},
   "outputs": [],
   "source": [
    "# your code here\n",
    "geometric_mean = lambda x : np.exp(np.mean(np.log(x)))\n",
    "harmonic_mean = lambda x :  len(x) / (1/x).sum()"
   ]
  },
  {
   "attachments": {},
   "cell_type": "markdown",
   "metadata": {},
   "source": [
    "2. Generate a 1-d Numpy array $X$ of 100 random integers."
   ]
  },
  {
   "cell_type": "code",
   "execution_count": 98,
   "metadata": {},
   "outputs": [
    {
     "data": {
      "text/plain": [
       "array([242, 373, 936, 636, 420, 804, 812, 336, 740, 949, 261, 837, 842,\n",
       "       144, 464, 538, 270, 665, 490, 115, 588, 466, 700,  22, 743, 184,\n",
       "       333, 867, 105, 625, 795, 806, 538, 917, 381, 785,  62, 233, 285,\n",
       "       130, 130, 229, 738, 812, 295, 831, 336, 417, 650,  39, 532, 943,\n",
       "       264,  26, 908,  98, 608, 130,  28, 363, 971, 335, 627, 977, 336,\n",
       "       711, 668, 367, 168, 814, 235, 518, 876, 290, 190, 478,  24, 689,\n",
       "       482, 159, 125,  78, 495, 974, 558, 793, 683,  41, 702, 121, 490,\n",
       "       137, 320,  44, 747, 926, 864, 981, 126, 908])"
      ]
     },
     "execution_count": 98,
     "metadata": {},
     "output_type": "execute_result"
    }
   ],
   "source": [
    "# your code here\n",
    "X =np.random.randint(1,1000,size = 100)\n",
    "X"
   ]
  },
  {
   "attachments": {},
   "cell_type": "markdown",
   "metadata": {},
   "source": [
    "3. Using the functions that you wrote above, compute the geometric and harmonic means of the array $X$."
   ]
  },
  {
   "cell_type": "code",
   "execution_count": 99,
   "metadata": {},
   "outputs": [
    {
     "name": "stdout",
     "output_type": "stream",
     "text": [
      "354.3458522172082\n",
      "190.12083191751503\n"
     ]
    }
   ],
   "source": [
    "# your code here\n",
    "print(geometric_mean(X))\n",
    "print(harmonic_mean(X))"
   ]
  },
  {
   "attachments": {},
   "cell_type": "markdown",
   "metadata": {},
   "source": [
    "4. There are aleady functions to compute the geometric and harmonic means in the `statistics` library. Use these functions, compute the geometric and harmonic means again and compare the results with those from your functions."
   ]
  },
  {
   "cell_type": "code",
   "execution_count": 100,
   "metadata": {},
   "outputs": [
    {
     "name": "stdout",
     "output_type": "stream",
     "text": [
      "354.3458522172082\n",
      "190.12083191751506\n"
     ]
    }
   ],
   "source": [
    "import statistics \n",
    "\n",
    "# your code here\n",
    "print(statistics.geometric_mean(X))\n",
    "print(statistics.harmonic_mean(X))\n",
    "\n",
    "#results are almost same"
   ]
  },
  {
   "attachments": {},
   "cell_type": "markdown",
   "metadata": {},
   "source": [
    "## Q4. Simulation for Linear Regression\n",
    "\n",
    "Suppose that the true relationship between the dependent variable ($y$) and three explanatory variables ($X_1$, $X_2$ and $X_3$) are given as follows: $$ y_t = 2 + 4 X_{1,t}  + 6 X_{2,t}  + 8 X_{3,t} + \\epsilon_t,$$ where $\\epsilon \\sim N(0, 0.04)$ and  $t = 1, 2, \\cdots, T$. This relationship can be written in matrix form: $\\mathbf{y} = \\mathbf{X}\\beta$, where $\\mathbf{y} = (y_1, y_2, \\cdots, y_T)'$, $\\mathbf{X} = (\\mathbf{1}, \\mathbf{X}_{1}, \\mathbf{X}_{2}, \\mathbf{X}_{3})$ and $\\beta = (2,4,6,8)'$.\n",
    "\n",
    "The economist does not know the true relationship but only has dataset of ($X, y$) and wants to figure out the relationship between $X$ and $y$ based on linear models. The Ordinary Least Squares (OLS) estimates of the coefficients is $$\\hat{\\beta} = (\\mathbf{X'}\\mathbf{X})^{-1}\\mathbf{X'}\\mathbf{y}$$\n"
   ]
  },
  {
   "attachments": {},
   "cell_type": "markdown",
   "metadata": {},
   "source": [
    "1. Create the matrix ($\\mathbf{X}$) of explanatory variables assuing that:\n",
    "  - the first column contains 100 ones.\n",
    "  - the second column contains 100 numbers from $N(2, 5)$\n",
    "  - the third column contains 100 numbers from $N(3, 3)$\n",
    "  - the fourth column contains 100 numbers from $N(5, 2)$\n",
    "\n",
    "  Check whether explanatory variables are created as specified."
   ]
  },
  {
   "cell_type": "code",
   "execution_count": 123,
   "metadata": {},
   "outputs": [
    {
     "data": {
      "text/plain": [
       "array([[ 1.        ,  0.43690717,  3.29976768,  5.08522057],\n",
       "       [ 1.        ,  1.15194782,  3.86983072,  5.11936642],\n",
       "       [ 1.        ,  2.80781179,  2.13985524,  4.21371599],\n",
       "       [ 1.        ,  1.21343928,  5.15007475,  4.68265793],\n",
       "       [ 1.        , -0.18193856,  3.31262432,  5.15412742],\n",
       "       [ 1.        ,  1.84451419,  3.37164826,  2.4418928 ],\n",
       "       [ 1.        ,  4.61125081,  5.2353562 ,  2.61617568],\n",
       "       [ 1.        ,  2.80117036,  4.63360669,  5.1539881 ],\n",
       "       [ 1.        , -0.82365817, -0.71576513,  3.95089602],\n",
       "       [ 1.        , -0.20653984,  3.61757539,  4.07194551],\n",
       "       [ 1.        ,  5.45337879,  2.82674222,  4.79883645],\n",
       "       [ 1.        ,  1.79346474,  1.96838777,  4.37568462],\n",
       "       [ 1.        ,  0.20032422,  3.73684411,  3.20183218],\n",
       "       [ 1.        ,  3.51729736,  1.7861767 ,  5.11880099],\n",
       "       [ 1.        , -2.17102929,  2.13040922,  3.29792581],\n",
       "       [ 1.        , -1.52504248,  2.7557794 ,  5.91293693],\n",
       "       [ 1.        ,  6.40066488,  4.32163237,  4.66432977],\n",
       "       [ 1.        ,  2.53354328,  2.94154178,  5.5749174 ],\n",
       "       [ 1.        ,  3.23208546,  5.49052928,  5.28815755],\n",
       "       [ 1.        ,  0.31791049,  4.16646714,  6.01063368],\n",
       "       [ 1.        ,  1.32875317,  5.1829364 ,  4.98959391],\n",
       "       [ 1.        , -1.10429244,  3.87262764,  4.06167294],\n",
       "       [ 1.        ,  3.08662583,  4.01434246,  4.50720981],\n",
       "       [ 1.        ,  0.61125805,  4.81862149,  4.29615465],\n",
       "       [ 1.        , -1.17467356,  3.84606624,  3.08596476],\n",
       "       [ 1.        ,  2.71748001,  1.30311944,  3.51879612],\n",
       "       [ 1.        ,  0.96478719,  6.12193491,  3.68272868],\n",
       "       [ 1.        ,  1.18982858,  6.21215877,  4.100272  ],\n",
       "       [ 1.        ,  2.86579805,  2.66109191,  6.07008486],\n",
       "       [ 1.        , -0.52063419,  3.20394577,  4.47406114],\n",
       "       [ 1.        ,  0.43229402,  1.1941019 ,  5.67821614],\n",
       "       [ 1.        ,  2.33962505,  1.10709718,  7.01319015],\n",
       "       [ 1.        ,  1.85424221,  3.13562815,  4.64624175],\n",
       "       [ 1.        , -1.38132415,  4.13906431,  4.97346861],\n",
       "       [ 1.        ,  4.15922845,  1.08534214,  6.65862453],\n",
       "       [ 1.        ,  2.16571648,  1.4196259 ,  6.21356065],\n",
       "       [ 1.        ,  1.44814008,  7.95147169,  5.54738516],\n",
       "       [ 1.        ,  1.21737909,  3.65140881,  5.4809477 ],\n",
       "       [ 1.        ,  0.86404008,  3.78825577,  5.49226067],\n",
       "       [ 1.        ,  2.66665693,  1.2357262 ,  4.13021402],\n",
       "       [ 1.        ,  1.92148819,  4.88402291,  3.97333996],\n",
       "       [ 1.        , -2.96900117,  2.76003142,  5.11339386],\n",
       "       [ 1.        ,  3.56542614,  3.68371522,  7.20168344],\n",
       "       [ 1.        ,  3.10467332,  1.35835296,  7.24700567],\n",
       "       [ 1.        ,  5.18003812,  3.05616725,  4.61198114],\n",
       "       [ 1.        ,  2.27580013,  2.55159029,  5.20020585],\n",
       "       [ 1.        , -1.13781871,  3.04721181,  5.27298717],\n",
       "       [ 1.        ,  0.66273029,  3.79882898,  4.29433915],\n",
       "       [ 1.        ,  0.16381978,  4.17592252,  4.730733  ],\n",
       "       [ 1.        ,  3.01373693,  4.10050696,  5.60008538],\n",
       "       [ 1.        ,  5.52737008,  2.41469177,  5.32541081],\n",
       "       [ 1.        ,  3.35953644,  4.92977979,  2.79038992],\n",
       "       [ 1.        ,  3.79903267,  1.15102619,  4.3179492 ],\n",
       "       [ 1.        , -0.33047627,  1.8597082 ,  5.55763704],\n",
       "       [ 1.        ,  2.69335444,  2.15771629,  5.2874473 ],\n",
       "       [ 1.        ,  6.29516402,  2.5646314 ,  5.8433808 ],\n",
       "       [ 1.        ,  3.34329188,  4.01596013,  6.3913914 ],\n",
       "       [ 1.        ,  2.8567619 ,  3.0070967 ,  4.0227775 ],\n",
       "       [ 1.        ,  3.67858652,  2.21703951,  4.10370136],\n",
       "       [ 1.        ,  2.37913123,  2.55852591,  5.00295593],\n",
       "       [ 1.        , -2.79674026,  1.76348777,  3.45882594],\n",
       "       [ 1.        ,  3.22327062,  4.5124347 ,  5.02723549],\n",
       "       [ 1.        ,  5.01042923,  3.41915248,  6.07233962],\n",
       "       [ 1.        , -1.67865136,  0.47253579,  6.9004893 ],\n",
       "       [ 1.        ,  3.30937144,  3.37105537,  4.37545388],\n",
       "       [ 1.        ,  5.48137242,  4.66538129,  4.47757817],\n",
       "       [ 1.        ,  3.88681868,  6.25499432,  4.56973071],\n",
       "       [ 1.        ,  1.46975417,  1.41044083,  3.37701343],\n",
       "       [ 1.        , -0.03614777,  3.40279155,  3.95569097],\n",
       "       [ 1.        ,  4.54321609,  5.67740782,  5.60629765],\n",
       "       [ 1.        ,  5.86617472,  0.17636639,  4.79772835],\n",
       "       [ 1.        ,  2.33891623,  3.17388463,  3.55291813],\n",
       "       [ 1.        ,  4.84799728,  2.09738561,  3.89438418],\n",
       "       [ 1.        , -1.0893503 ,  5.04435639,  6.74440063],\n",
       "       [ 1.        ,  5.53046383,  5.24266395,  4.80190172],\n",
       "       [ 1.        , -0.19937099,  4.04595844,  6.23043659],\n",
       "       [ 1.        ,  2.78596926,  3.03375982,  3.7569546 ],\n",
       "       [ 1.        ,  1.44696769,  1.86500181,  4.97337888],\n",
       "       [ 1.        ,  1.95302256,  5.129537  ,  4.76380878],\n",
       "       [ 1.        ,  0.50916623,  2.34874055,  4.80547065],\n",
       "       [ 1.        ,  1.00756095,  3.37261222,  6.98203644],\n",
       "       [ 1.        , -0.2177291 ,  2.63923649,  3.32521892],\n",
       "       [ 1.        ,  3.36657716,  6.32051534,  3.64447908],\n",
       "       [ 1.        , -0.35216701,  4.46372357,  6.91591256],\n",
       "       [ 1.        ,  4.49574577,  2.75213433,  4.68365844],\n",
       "       [ 1.        , -1.97125452,  1.87500052,  3.97807124],\n",
       "       [ 1.        ,  2.92009548,  1.71259074,  5.03493759],\n",
       "       [ 1.        ,  3.78246609,  4.83511368,  4.81187959],\n",
       "       [ 1.        ,  2.66516925,  3.27828603,  3.77935373],\n",
       "       [ 1.        , -1.48308568,  3.53715249,  3.63130837],\n",
       "       [ 1.        ,  2.05917554, -0.07122697,  5.02334521],\n",
       "       [ 1.        ,  4.70387815,  2.95974084,  6.71417035],\n",
       "       [ 1.        , -1.16944426,  3.68602309,  5.85467557],\n",
       "       [ 1.        ,  1.11805684,  3.8360413 ,  4.58918085],\n",
       "       [ 1.        ,  2.54289127,  2.82796682,  3.14836061],\n",
       "       [ 1.        ,  5.14754439,  2.70232656,  3.88922187],\n",
       "       [ 1.        , -0.13450208,  5.10556737,  6.05681356],\n",
       "       [ 1.        ,  0.23191445,  4.18561274,  4.6927497 ],\n",
       "       [ 1.        ,  0.29776043,  3.9248039 ,  5.57345949],\n",
       "       [ 1.        ,  4.65205644,  1.99310608,  5.10492387]])"
      ]
     },
     "execution_count": 123,
     "metadata": {},
     "output_type": "execute_result"
    }
   ],
   "source": [
    "# your code here\n",
    "col1=np.ones((100,1))\n",
    "col2=np.random.normal(2,5**1/2,(100,1))\n",
    "col3=np.random.normal(3,3**1/2,(100,1))\n",
    "col4=np.random.normal(5,2**1/2,(100,1))\n",
    "X=np.concatenate((col1,col2,col3,col4),axis=1);X"
   ]
  },
  {
   "attachments": {},
   "cell_type": "markdown",
   "metadata": {},
   "source": [
    "  2. Create the vector of dependent variable ($\\mathbf{y}$) using the true relationship above."
   ]
  },
  {
   "cell_type": "code",
   "execution_count": 124,
   "metadata": {},
   "outputs": [
    {
     "data": {
      "text/plain": [
       "array([[ 64.01327213],\n",
       "       [ 70.49037799],\n",
       "       [ 59.95348233],\n",
       "       [ 75.52292086],\n",
       "       [ 62.43935373],\n",
       "       [ 49.05410213],\n",
       "       [ 72.59896378],\n",
       "       [ 82.28306791],\n",
       "       [ 25.80531371],\n",
       "       [ 55.51189173],\n",
       "       [ 79.4867604 ],\n",
       "       [ 56.00877666],\n",
       "       [ 50.78408736],\n",
       "       [ 67.82267449],\n",
       "       [ 32.45553003],\n",
       "       [ 60.20556071],\n",
       "       [ 90.80101927],\n",
       "       [ 74.44040064],\n",
       "       [ 90.17948319],\n",
       "       [ 76.41545771],\n",
       "       [ 78.56224857],\n",
       "       [ 53.19386966],\n",
       "       [ 74.3029594 ],\n",
       "       [ 67.63082843],\n",
       "       [ 44.9624659 ],\n",
       "       [ 48.98234525],\n",
       "       [ 72.21563014],\n",
       "       [ 76.67733908],\n",
       "       [ 77.99738823],\n",
       "       [ 54.61904265],\n",
       "       [ 56.51774827],\n",
       "       [ 74.69515959],\n",
       "       [ 65.03694946],\n",
       "       [ 61.19395776],\n",
       "       [ 78.4861669 ],\n",
       "       [ 68.47313869],\n",
       "       [100.06154979],\n",
       "       [ 72.58193313],\n",
       "       [ 72.09183022],\n",
       "       [ 53.3715051 ],\n",
       "       [ 70.99015924],\n",
       "       [ 47.52427672],\n",
       "       [ 96.06661898],\n",
       "       [ 80.5150222 ],\n",
       "       [ 77.93930706],\n",
       "       [ 67.88590373],\n",
       "       [ 57.72557614],\n",
       "       [ 61.90878526],\n",
       "       [ 65.48825122],\n",
       "       [ 83.29013082],\n",
       "       [ 81.3479864 ],\n",
       "       [ 67.53938535],\n",
       "       [ 58.5706548 ],\n",
       "       [ 56.28203643],\n",
       "       [ 68.17843896],\n",
       "       [ 89.53384905],\n",
       "       [ 90.664289  ],\n",
       "       [ 63.60822135],\n",
       "       [ 62.81063706],\n",
       "       [ 67.19067967],\n",
       "       [ 29.38608427],\n",
       "       [ 82.49103242],\n",
       "       [ 91.3472641 ],\n",
       "       [ 52.88498745],\n",
       "       [ 70.67957394],\n",
       "       [ 87.92274139],\n",
       "       [ 91.72194731],\n",
       "       [ 43.56722795],\n",
       "       [ 54.00032907],\n",
       "       [ 99.17434173],\n",
       "       [ 65.07158271],\n",
       "       [ 58.58397293],\n",
       "       [ 65.15885348],\n",
       "       [ 81.84113044],\n",
       "       [ 94.0016837 ],\n",
       "       [ 75.32148007],\n",
       "       [ 61.14096132],\n",
       "       [ 59.26038336],\n",
       "       [ 79.07466055],\n",
       "       [ 56.87990542],\n",
       "       [ 82.17142554],\n",
       "       [ 43.7903338 ],\n",
       "       [ 82.49720028],\n",
       "       [ 82.6759577 ],\n",
       "       [ 74.11851573],\n",
       "       [ 37.3770817 ],\n",
       "       [ 64.46591216],\n",
       "       [ 84.59411248],\n",
       "       [ 62.55168199],\n",
       "       [ 46.37480447],\n",
       "       [ 49.989522  ],\n",
       "       [ 92.49804729],\n",
       "       [ 66.4279052 ],\n",
       "       [ 66.37084022],\n",
       "       [ 54.45121701],\n",
       "       [ 70.09606946],\n",
       "       [ 80.14237922],\n",
       "       [ 65.74884828],\n",
       "       [ 71.70823827],\n",
       "       [ 73.62589578]])"
      ]
     },
     "execution_count": 124,
     "metadata": {},
     "output_type": "execute_result"
    }
   ],
   "source": [
    "# your code here\n",
    "beta = np.array([2,4,6,8])\n",
    "y=np.matmul(X,beta).reshape(100,1)+np.random.normal(0, 0.2,(100, 1));y"
   ]
  },
  {
   "attachments": {},
   "cell_type": "markdown",
   "metadata": {},
   "source": [
    "3. Compute the estimates of coefficients."
   ]
  },
  {
   "cell_type": "code",
   "execution_count": 125,
   "metadata": {},
   "outputs": [
    {
     "data": {
      "text/plain": [
       "array([[2.01892495],\n",
       "       [4.01314629],\n",
       "       [5.99404458],\n",
       "       [8.0060711 ]])"
      ]
     },
     "execution_count": 125,
     "metadata": {},
     "output_type": "execute_result"
    }
   ],
   "source": [
    "# your code here\n",
    "np.linalg.inv((X.transpose() @ X)) @ X.transpose() @ y"
   ]
  },
  {
   "attachments": {},
   "cell_type": "markdown",
   "metadata": {},
   "source": [
    "4. From the OLS equation, the estimates of the coefficients, $\\hat{\\beta}$, can be interprested as the solution to a linear equation system. Write the linear equation system and `solve` for it.   "
   ]
  },
  {
   "attachments": {},
   "cell_type": "markdown",
   "metadata": {},
   "source": [
    "$$\\mathbf{X'}\\mathbf{y} = (\\mathbf{X'}\\mathbf{X})\\hat{\\beta}$$"
   ]
  },
  {
   "cell_type": "code",
   "execution_count": 126,
   "metadata": {},
   "outputs": [
    {
     "data": {
      "text/plain": [
       "array([[2.01892495],\n",
       "       [4.01314629],\n",
       "       [5.99404458],\n",
       "       [8.0060711 ]])"
      ]
     },
     "execution_count": 126,
     "metadata": {},
     "output_type": "execute_result"
    }
   ],
   "source": [
    "# your code here\n",
    "beta_hat = np.linalg.solve(X.transpose() @ X, X.transpose() @y);beta_hat"
   ]
  },
  {
   "attachments": {},
   "cell_type": "markdown",
   "metadata": {},
   "source": [
    "5. Suppose that the economist thinks that the explanaroty bariable $X_3$ is not important for the dependent variable. Hence she drop that variable from her estimation equation. Compute the estimates $\\tilde{\\beta}$ with this specification and explain how $\\tilde{\\beta}$ compare with $\\hat{\\beta}$."
   ]
  },
  {
   "cell_type": "code",
   "execution_count": 127,
   "metadata": {},
   "outputs": [
    {
     "name": "stdout",
     "output_type": "stream",
     "text": [
      "[[41.82119399]\n",
      " [ 4.15565377]\n",
      " [ 5.61263953]]\n",
      "\n",
      "[[2.01892495]\n",
      " [4.01314629]\n",
      " [5.99404458]\n",
      " [8.0060711 ]]\n"
     ]
    }
   ],
   "source": [
    "# your code here\n",
    "drop_X = np.delete(X, 3, axis=1)\n",
    "newbeta_hat = np.linalg.solve(drop_X.transpose() @ drop_X, drop_X.transpose() @y)\n",
    "print(newbeta_hat)\n",
    "print()\n",
    "print(beta_hat)\n",
    "\n",
    "#coefficient of x1 is different(larger than origin one) but other coefficients are similar"
   ]
  },
  {
   "attachments": {},
   "cell_type": "markdown",
   "metadata": {},
   "source": [
    "6. The economist is not intested in the constant term. Hence she converted her estimation model to the form of deviations from means:  $$y - \\bar{y} = \\left(\\mathbf{X}-\\mathbf{\\bar{X}} \\right) \\gamma,$$ where $\\bar{\\mathbf{y}}$ and $\\bar{\\mathbf{X}}$ are the means of $\\mathbf{y}$ and $\\mathbf{X}$ respectively. Write down the OLS estimates for $\\gamma$, compute $\\hat{\\gamma}$ and compare $\\hat{\\gamma}$ and $\\hat{\\beta}$."
   ]
  },
  {
   "cell_type": "code",
   "execution_count": 131,
   "metadata": {},
   "outputs": [
    {
     "data": {
      "text/plain": [
       "array([[0.        ],\n",
       "       [4.01314629],\n",
       "       [5.99404458],\n",
       "       [8.0060711 ]])"
      ]
     },
     "execution_count": 131,
     "metadata": {},
     "output_type": "execute_result"
    }
   ],
   "source": [
    "# your code here\n",
    "\n",
    "gamma_hat = np.linalg.pinv(X-np.mean(X,axis=0))@ (y-np.mean(y,axis=0));gamma_hat\n",
    "\n",
    "#other coefficients are similar but beta_0(constant term) is equal to 0 in gamma_hat. and this is the main difference\n",
    "#from beta_hat. Reason is that by subtarcting mean term, constant term is disappeared."
   ]
  },
  {
   "cell_type": "code",
   "execution_count": null,
   "metadata": {},
   "outputs": [],
   "source": []
  }
 ],
 "metadata": {
  "kernelspec": {
   "display_name": "base",
   "language": "python",
   "name": "python3"
  },
  "language_info": {
   "codemirror_mode": {
    "name": "ipython",
    "version": 3
   },
   "file_extension": ".py",
   "mimetype": "text/x-python",
   "name": "python",
   "nbconvert_exporter": "python",
   "pygments_lexer": "ipython3",
   "version": "3.11.2"
  },
  "orig_nbformat": 4
 },
 "nbformat": 4,
 "nbformat_minor": 2
}
